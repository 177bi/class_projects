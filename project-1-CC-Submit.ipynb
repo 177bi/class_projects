{
 "cells": [
  {
   "cell_type": "markdown",
   "metadata": {},
   "source": [
    "<img src=\"http://imgur.com/1ZcRyrc.png\" style=\"float: left; margin: 20px; height: 55px\">\n",
    "\n",
    "# Project 1: Python Coding Exercises\n",
    "\n",
    "_Authors: Joseph Nelson (DC)_\n",
    "\n",
    "---"
   ]
  },
  {
   "cell_type": "markdown",
   "metadata": {},
   "source": [
    "The following code challenges are drawn from common exercises used in technical interviews.\n",
    "\n",
    "Please note that there may be several ways to approach each challenge. If you get stuck, try mapping out your approach in pseudocode first. Finally, while solutions to problems like these may be found online, remember that if you copy/paste code that you can't explain, you'll be missing out on the point of the project. The only way to truly learn a new skill is through practice, trial, and error - we can only help you improve by understanding where you are having trouble."
   ]
  },
  {
   "cell_type": "markdown",
   "metadata": {},
   "source": [
    "### Challenge 1: Largest Palindrome\n",
    "A palindromic number reads the same both ways. For example, 1234321 is a palindrome. The largest palindrome made from the product of two two-digit numbers is 9009 = 91 × 99. Find the largest palindrome made from the product of two three-digit numbers. Afterward, write a brief explanation walking through your code's logic in markdown."
   ]
  },
  {
   "cell_type": "code",
   "execution_count": null,
   "metadata": {},
   "outputs": [],
   "source": [
    "list_of_palindromes = []    # create an empty set so that we could add variables in the future\n",
    "for x in range(100, 1000):    #run a loop so that something happens to each number in a range from 100 to 999\n",
    "    for y in range(100, 1000):    #for each number in the previously noted set, a number between 100 and 999 will be appleid\n",
    "        z = x * y               # a new number z will represent the multiplication of each number in set x being multiplied by each number in set y\n",
    "        if str(z) == str(z)[::-1]: # this is to check if each number, after being converted to strings, is a palindrom\n",
    "            list_of_palindromes.append(z) # if the number z is a palindrome, add to the empty set defined above, creating a list of palindromes\n",
    "print(max(list_of_palindromes))    #print the largest palindrome from the list of palindromes\n"
   ]
  },
  {
   "cell_type": "markdown",
   "metadata": {},
   "source": [
    "\n",
    "### Challenge 2: Summation of Primes\n",
    "The sum of the primes below 10 is 2 + 3 + 5 + 7 = 17. Find the sum of all the primes below 2,000. Afterward, write a brief explanation walking through your code's logic in markdown."
   ]
  },
  {
   "cell_type": "code",
   "execution_count": null,
   "metadata": {},
   "outputs": [],
   "source": [
    "# Create a name for a list that will be added to later\n",
    "list = []\n",
    "# Create a function to define prime numbers through division, natural numbers and using Boolean logic \n",
    "def is_prime(n):\n",
    "#... but eliminating 1 from consideration\n",
    "    if n == 1:\n",
    "        return False\n",
    "\n",
    "    for x in range(2,n):\n",
    "        if n % x == 0:\n",
    "            return False\n",
    "    return True\n",
    "# run the function for all numbers in a range less than 2000 and add the prime numbers to the list\n",
    "for n in range(2, 2000):\n",
    "    if is_prime(n) == True:\n",
    "        list.append(n)\n",
    "# sum the list\n",
    "sum(list)\n"
   ]
  },
  {
   "cell_type": "markdown",
   "metadata": {},
   "source": [
    "### Challenge 3: Multiples of 3 and 5\n",
    "If we list all of the natural numbers below 10 that are multiples of 3 or 5, we get 3, 5, 6, and 9. The sum of these multiples is 23. Find the sum of all the multiples of 3 and 5 below 1,000. Afterward, write a brief explanation walking through your code's logic in markdown."
   ]
  },
  {
   "cell_type": "code",
   "execution_count": null,
   "metadata": {},
   "outputs": [],
   "source": [
    "# Create a name for a list that will be added to later\n",
    "list_nat_numbers = []\n",
    "# Create a function that will check if the outcome of each number in a range, divisible by 3 or 5, is natural\n",
    "def nat_number(n):\n",
    "    if n % 3 == 0 or n % 5 == 0:\n",
    "# if the number is natural, then add it to the list\n",
    "        list_nat_numbers.append(n)\n",
    "# if the number is not natural, move on\n",
    "    else:\n",
    "        False\n",
    "# run the function for all numbers less than 1000                \n",
    "for n in range(0,1000):\n",
    "    nat_number(n)\n",
    "# Add all of the numbers in the list\n",
    "sum(list_nat_numbers)"
   ]
  },
  {
   "cell_type": "markdown",
   "metadata": {},
   "source": [
    "### Challenge 4: String Compressor\n",
    "Implement a method to perform basic string compression using the counts of repeated characters. (This is called run-length encoding.) For example, the string \"aabcccccaaa\" would become a2b1c5a3. If the “compressed” string would not become smaller than the original string, your method should return the original string. You can assume the string has only uppercase and lowercase letters (a–z). Specify whether your solution is case sensitive or case insensitive and what you would need to change to make it the other. Afterward, write a brief explanation walking through your code's logic in markdown."
   ]
  },
  {
   "cell_type": "code",
   "execution_count": null,
   "metadata": {},
   "outputs": [],
   "source": [
    "base_string = 'wtryujgh'\n",
    "\n",
    "# create a function that loops through the characters, states how many times they occur consecutively and prints a revised\n",
    "# string only if it has fewer characters than that of the original string\n",
    "# all characters are lowercase. to make all characters uppercase, change base_string = base_string.upper()\n",
    "def compressed_str(letters):\n",
    "# create new string name, for which characters will be added later\n",
    "    new_string = \"\"\n",
    "# begin count by setting the base number so that the code could add to this base later\n",
    "    count = 1\n",
    "# print the first character in the string\n",
    "    new_string = letters[0]\n",
    "# create a loop, checking if the character is the same as the next character in the string and, if so, adding to the count tally\n",
    "    for x in range(len(letters)-1):\n",
    "        if letters[x] == letters[x +1]:\n",
    "            count += 1\n",
    "# if the aforementioned character is not the same as the next character in the string...\n",
    "        else:\n",
    "#... check the count tally. If the tally is >1, add the tally count to the new string\n",
    "            if count>1:\n",
    "                new_string += str(count)\n",
    "#... check the count tally. If the tally isn't >1, add the next character in the string to the new string\n",
    "            new_string += letters[x + 1]\n",
    "# reset the count tally to 1, so the cont tally logic works\n",
    "            count = 1\n",
    "# if the last count tally >1, add the tally to the new string\n",
    "    if count > 1:\n",
    "        new_string += str(count)\n",
    "# end the function by stating the new string \n",
    "    return new_string\n",
    "# compares the number of characters between the new and base strings. If new is more than the base, the base is printed\n",
    "if len(compressed_str(base_string)) > len(base_string):\n",
    "    print(base_string)\n",
    "print(compressed_str(base_string))"
   ]
  },
  {
   "cell_type": "markdown",
   "metadata": {},
   "source": [
    "### *BONUS* Challenge: FizzBuzz\n",
    "Write a program that prints all of the numbers from 1 to 100. For multiples of 3, instead of the number, print \"Fizz;\" for multiples of 5, print \"Buzz.\" For numbers that are multiples of both 3 and 5, print \"FizzBuzz.\" Afterward, write a brief explanation walking through your code's logic in markdown."
   ]
  },
  {
   "cell_type": "code",
   "execution_count": null,
   "metadata": {},
   "outputs": [],
   "source": [
    "# Create function to check if each number in a range between 1 and 100 is divisible, naturally, by 3 and 5\n",
    "for number in range(1,101):\n",
    "    if number %3 == 0 and number %5 == 0:\n",
    "# first identify the fizzbuzz numbers (multiples of 3 and 5) first, then identify the fizz numbers abd buzz numbers after. Print\n",
    "        print('fizzbuzz')\n",
    "    elif number % 3 == 0:\n",
    "        print('fizz')\n",
    "    elif number % 5 == 0:\n",
    "        print('buzz')\n",
    "    else:\n",
    "        print(number)"
   ]
  }
 ],
 "metadata": {
  "anaconda-cloud": {},
  "kernelspec": {
   "display_name": "Python 3",
   "language": "python",
   "name": "python3"
  },
  "language_info": {
   "codemirror_mode": {
    "name": "ipython",
    "version": 3
   },
   "file_extension": ".py",
   "mimetype": "text/x-python",
   "name": "python",
   "nbconvert_exporter": "python",
   "pygments_lexer": "ipython3",
   "version": "3.6.5"
  }
 },
 "nbformat": 4,
 "nbformat_minor": 2
}
